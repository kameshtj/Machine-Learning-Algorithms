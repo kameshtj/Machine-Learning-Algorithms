{
  "metadata": {
    "kernelspec": {
      "name": "python",
      "display_name": "Python (Pyodide)",
      "language": "python"
    },
    "language_info": {
      "codemirror_mode": {
        "name": "python",
        "version": 3
      },
      "file_extension": ".py",
      "mimetype": "text/x-python",
      "name": "python",
      "nbconvert_exporter": "python",
      "pygments_lexer": "ipython3",
      "version": "3.8"
    }
  },
  "nbformat_minor": 5,
  "nbformat": 4,
  "cells": [
    {
      "cell_type": "code",
      "source": "from matplotlib import pyplot as plt\nimport numpy as np",
      "metadata": {
        "trusted": true
      },
      "execution_count": 38,
      "outputs": [],
      "id": "135bb7f6-7d91-4a9a-bec0-811289fb9bff"
    },
    {
      "cell_type": "markdown",
      "source": "# Linear regression\n\nLet’s discuss an algorithm called linear regression in detail. This comes under supervised learning.\n\nWe have the below dataset where X is an input and Y is an output.\n\n\n| X (Input) | 1 | 2 | 3 | 4 | 5 | 6 | ... |\n| --- | --- | --- | --- | --- | --- | --- | --- |\n| Y (Output) | 3 | 5 | 7 | 9 | 11 | 13 | ... |\n\n**The task is to train a model which can predict an output (Y) given an arbitrary input (X) which is not in the data set.**\n>\nLet's plot this as a graph",
      "metadata": {},
      "id": "a35eeb9f-df70-4ab1-a243-2d2025888eb0"
    },
    {
      "cell_type": "code",
      "source": "x = [1,2,3,4,5,6]\ny = [3,5,7,9,11,13]\nfig, ax = plt.subplots()\n\nax.scatter(x=x, y=y)\nax.set(title=\"Sample data set with input (x) and output (y)\")\nplt.show()",
      "metadata": {
        "trusted": true
      },
      "execution_count": 40,
      "outputs": [
        {
          "output_type": "display_data",
          "data": {
            "text/plain": "<Figure size 640x480 with 1 Axes>",
            "image/png": "[encoded data removed]"
          },
          "metadata": {}
        }
      ],
      "id": "fe55883a-6887-43dd-9498-5333a51799e2"
    },
    {
      "cell_type": "markdown",
      "source": "It is evident from the graph that a straight line can be fitted for the given data points. \n>\nUsing extrapolation, we can find Y for any arbitrary input X. \n>\nWe can define a model for fitting a straight line and let a machine learn the parameters of the model.\n>\n- **Y = mX + b** \n>\nwhere **m** and **b** are the parameters of the model.\n>\n\nThe goal is to find the best values for the parameters (slope (m) and intercept (b) ) that minimize the error between the predicted values and the actual target values.\n\n>\nIf you look closer, you can identify the equation between X and Y.\n\n- Y = 2X where m=2 and b=1\n\n>\nLet’s see how we find the values m and b using linear regression.\n>\nThe steps for linear regression are as follows:",
      "metadata": {},
      "id": "08fd761b-ee14-4375-acb7-e7bac755f2a7"
    },
    {
      "cell_type": "markdown",
      "source": "# Initialization:\nWe start by initializing the values of the parameters (slope and intercept) with some arbitrary values. \n>\nThese values can be chosen randomly or set to zero. Let's initialize the parameters m and b to zero.",
      "metadata": {},
      "id": "2295f3b9-d0fa-4975-85e1-047a65e6d225"
    },
    {
      "cell_type": "code",
      "source": "m=0;\nb =0;\nn = len(x)",
      "metadata": {
        "trusted": true
      },
      "execution_count": 45,
      "outputs": [],
      "id": "5c10e506-bf50-4f91-bb5c-48ea643fc422"
    },
    {
      "cell_type": "markdown",
      "source": "# Forward propagation:\nEvaluate the output (y_pred) using the values initialized for parameters m and b \n>\n- **y_pred = m*x + b**",
      "metadata": {},
      "id": "d02dc6ff-50a0-4772-bd06-2894bd05d8e1"
    },
    {
      "cell_type": "code",
      "source": "y_pred = np.multiply(m, x) + b;\nprint(y_pred);",
      "metadata": {
        "trusted": true
      },
      "execution_count": 46,
      "outputs": [
        {
          "name": "stdout",
          "text": "[0 0 0 0 0 0]\n",
          "output_type": "stream"
        }
      ],
      "id": "bf6364e4-480b-4b67-bdc1-fe53f137a750"
    },
    {
      "cell_type": "markdown",
      "source": "# Define the loss function:\nIn linear regression, the most common loss function is the mean squared error (MSE), which measures the average squared difference between the predicted values and the actual target values. \n>\n**The MSE (L) is given by:**\nL = (1/n) * Σ(y_pred - y)^2 \n>\nwhere **n** is the number of data points in the dataset\n>\n**y_pred** is the predicted value for a given input (X) using the current parameter values\n>\n**y** is the actual target value corresponding to the input (X)\n",
      "metadata": {},
      "id": "bed9dd77-344e-434c-8618-678a29e65e75"
    },
    {
      "cell_type": "code",
      "source": "L = sum(np.square(np.subtract(y_pred, y)))/n\nprint(L);",
      "metadata": {
        "trusted": true
      },
      "execution_count": 49,
      "outputs": [
        {
          "name": "stdout",
          "text": "75.66666666666667\n",
          "output_type": "stream"
        }
      ],
      "id": "f6383e34-90c8-4dbc-8b4d-625dad3ab669"
    },
    {
      "cell_type": "markdown",
      "source": "# Calculate the gradients: The gradients represent how the loss function changes with respect to each parameter. \n>\nWe need to compute the partial derivatives of the loss function with respect to the parameters (slope and intercept). \n>\nThe gradients are calculated as follows: \n- dL/dm = (2/n) * Σ(X * (y_pred - y_actual)) \n- dL/db = (2/n) * Σ(y_pred - y_actual)\nLet's see how we derived the gradients dL/dm  and dL/db in detail.\n- L = (1/n) * Σ(y_pred - y_actual)^2 \n- dL/dm = (1/n) * Σ(2 * (y_pred - y_actual) * d(y_pred)/dm)\n- y_pred = m * X + b\n- d(y_pred)/dm = d(m*X + b)/dm = X \n\n- ∴  dL/dM = (2/n) * Σ((y_pred- y_actual) * X)\n\n**dL/db = (1/n) * Σ(2 * (y_pred - y_actual) * d(y_pred)/db)**\n>\n**y_pred = m * X + b**\n>\n**d(y_pred)/db = d(m*X + b)/db = 1**\n\n∴ dL/db = (2/n) * Σ(y_pred - y_actual)\n",
      "metadata": {},
      "id": "90c608e7-f641-490f-9824-b8a754ab3e70"
    },
    {
      "cell_type": "code",
      "source": "dL_m = (2/n) * sum(x * (y_pred - y));\nprint(dL_m);\ndL_b = (2/n) * sum(y_pred - y);\nprint(dL_b);",
      "metadata": {
        "trusted": true
      },
      "execution_count": 50,
      "outputs": [
        {
          "name": "stdout",
          "text": "-67.66666666666666\n-16.0\n",
          "output_type": "stream"
        }
      ],
      "id": "1c7fcace-711d-4c10-91d4-0c94d75d2ec3"
    },
    {
      "cell_type": "markdown",
      "source": "# Update the parameters: \nThe parameters are updated iteratively using the gradients and a learning rate (α) that controls the step size of each update. \n>\nThe parameter update equations are as follows: \n- m= m - α * dL/dm \n- b = b - α * dL/db\n>\n**Where:** \nα (alpha) is the learning rate, a small positive value that determines the step size of the update\n",
      "metadata": {},
      "id": "2d18db0a-5f2f-4d48-ac54-63538111d46f"
    },
    {
      "cell_type": "code",
      "source": "alpha = 0.01;\nm = m - (alpha * dL_m);\nprint(\"updated m = \", m);\n\nb = b - (alpha * dL_b);\nprint(\"updated b = \", b);",
      "metadata": {
        "trusted": true
      },
      "execution_count": 52,
      "outputs": [
        {
          "name": "stdout",
          "text": "updated m =  1.3533333333333333\nupdated b =  0.32\n",
          "output_type": "stream"
        }
      ],
      "id": "62b86b79-3a32-4036-8f06-b36d6f6138d9"
    },
    {
      "cell_type": "markdown",
      "source": "# Repeat steps 4 and 5:\nThe previous steps are repeated until the loss function (L) converges to zero or threshold or a predefined number of iterations. \n>\nLet's update the parameters by calculating gradient descent for 100 times and see how the loss converges",
      "metadata": {},
      "id": "4ff270ae-c881-45fb-96ad-e9ced59c3f67"
    },
    {
      "cell_type": "code",
      "source": "iterations_count = 1000;\nfor i in range(iterations_count):\n    y_pred = np.multiply(m, x) + b;\n\n    L = sum(np.square(np.subtract(y_pred, y)))/n;\n\n    dL_m = (2/n) * sum(x * (y_pred - y)) ;\n\n    dL_b = (2/n) * sum(y_pred - y) ;\n\n    m = m - (alpha * dL_m);\n\n    b = b - (alpha * dL_b);\n    \n    if i==iterations_count-1:\n        print(y_pred);\n        print(L);\n        print(dL_m);\n        print(dL_m);\n        print(\"updated m = \", m);\n        print(\"updated b = \", b);",
      "metadata": {
        "trusted": true
      },
      "execution_count": 54,
      "outputs": [
        {
          "name": "stdout",
          "text": "[ 2.99308508  4.99519252  6.99729995  8.99940739 11.00151483 13.00362227]\n1.5664156474195683e-05\n0.0007690961547887435\n0.0007690961547887435\nupdated m =  2.002099746075972\nupdated b =  0.9910105702497091\n",
          "output_type": "stream"
        }
      ],
      "id": "7796d402-516a-4539-a3ce-e558ace04da4"
    }
  ]
}
